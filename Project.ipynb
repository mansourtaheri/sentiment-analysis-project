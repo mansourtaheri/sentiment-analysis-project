{
  "cells": [
    {
      "cell_type": "code",
      "execution_count": null,
      "metadata": {
        "colab": {
          "base_uri": "https://localhost:8080/",
          "height": 92
        },
        "id": "tura2Id41JCP",
        "outputId": "4b080205-31f5-4417-9c59-91f6ff30518f"
      },
      "outputs": [
        {
          "data": {
            "text/html": [
              "\n",
              "     <input type=\"file\" id=\"files-063fbaf3-8fb5-4579-8c8a-636dec1e00e0\" name=\"files[]\" multiple disabled\n",
              "        style=\"border:none\" />\n",
              "     <output id=\"result-063fbaf3-8fb5-4579-8c8a-636dec1e00e0\">\n",
              "      Upload widget is only available when the cell has been executed in the\n",
              "      current browser session. Please rerun this cell to enable.\n",
              "      </output>\n",
              "      <script>// Copyright 2017 Google LLC\n",
              "//\n",
              "// Licensed under the Apache License, Version 2.0 (the \"License\");\n",
              "// you may not use this file except in compliance with the License.\n",
              "// You may obtain a copy of the License at\n",
              "//\n",
              "//      http://www.apache.org/licenses/LICENSE-2.0\n",
              "//\n",
              "// Unless required by applicable law or agreed to in writing, software\n",
              "// distributed under the License is distributed on an \"AS IS\" BASIS,\n",
              "// WITHOUT WARRANTIES OR CONDITIONS OF ANY KIND, either express or implied.\n",
              "// See the License for the specific language governing permissions and\n",
              "// limitations under the License.\n",
              "\n",
              "/**\n",
              " * @fileoverview Helpers for google.colab Python module.\n",
              " */\n",
              "(function(scope) {\n",
              "function span(text, styleAttributes = {}) {\n",
              "  const element = document.createElement('span');\n",
              "  element.textContent = text;\n",
              "  for (const key of Object.keys(styleAttributes)) {\n",
              "    element.style[key] = styleAttributes[key];\n",
              "  }\n",
              "  return element;\n",
              "}\n",
              "\n",
              "// Max number of bytes which will be uploaded at a time.\n",
              "const MAX_PAYLOAD_SIZE = 100 * 1024;\n",
              "\n",
              "function _uploadFiles(inputId, outputId) {\n",
              "  const steps = uploadFilesStep(inputId, outputId);\n",
              "  const outputElement = document.getElementById(outputId);\n",
              "  // Cache steps on the outputElement to make it available for the next call\n",
              "  // to uploadFilesContinue from Python.\n",
              "  outputElement.steps = steps;\n",
              "\n",
              "  return _uploadFilesContinue(outputId);\n",
              "}\n",
              "\n",
              "// This is roughly an async generator (not supported in the browser yet),\n",
              "// where there are multiple asynchronous steps and the Python side is going\n",
              "// to poll for completion of each step.\n",
              "// This uses a Promise to block the python side on completion of each step,\n",
              "// then passes the result of the previous step as the input to the next step.\n",
              "function _uploadFilesContinue(outputId) {\n",
              "  const outputElement = document.getElementById(outputId);\n",
              "  const steps = outputElement.steps;\n",
              "\n",
              "  const next = steps.next(outputElement.lastPromiseValue);\n",
              "  return Promise.resolve(next.value.promise).then((value) => {\n",
              "    // Cache the last promise value to make it available to the next\n",
              "    // step of the generator.\n",
              "    outputElement.lastPromiseValue = value;\n",
              "    return next.value.response;\n",
              "  });\n",
              "}\n",
              "\n",
              "/**\n",
              " * Generator function which is called between each async step of the upload\n",
              " * process.\n",
              " * @param {string} inputId Element ID of the input file picker element.\n",
              " * @param {string} outputId Element ID of the output display.\n",
              " * @return {!Iterable<!Object>} Iterable of next steps.\n",
              " */\n",
              "function* uploadFilesStep(inputId, outputId) {\n",
              "  const inputElement = document.getElementById(inputId);\n",
              "  inputElement.disabled = false;\n",
              "\n",
              "  const outputElement = document.getElementById(outputId);\n",
              "  outputElement.innerHTML = '';\n",
              "\n",
              "  const pickedPromise = new Promise((resolve) => {\n",
              "    inputElement.addEventListener('change', (e) => {\n",
              "      resolve(e.target.files);\n",
              "    });\n",
              "  });\n",
              "\n",
              "  const cancel = document.createElement('button');\n",
              "  inputElement.parentElement.appendChild(cancel);\n",
              "  cancel.textContent = 'Cancel upload';\n",
              "  const cancelPromise = new Promise((resolve) => {\n",
              "    cancel.onclick = () => {\n",
              "      resolve(null);\n",
              "    };\n",
              "  });\n",
              "\n",
              "  // Wait for the user to pick the files.\n",
              "  const files = yield {\n",
              "    promise: Promise.race([pickedPromise, cancelPromise]),\n",
              "    response: {\n",
              "      action: 'starting',\n",
              "    }\n",
              "  };\n",
              "\n",
              "  cancel.remove();\n",
              "\n",
              "  // Disable the input element since further picks are not allowed.\n",
              "  inputElement.disabled = true;\n",
              "\n",
              "  if (!files) {\n",
              "    return {\n",
              "      response: {\n",
              "        action: 'complete',\n",
              "      }\n",
              "    };\n",
              "  }\n",
              "\n",
              "  for (const file of files) {\n",
              "    const li = document.createElement('li');\n",
              "    li.append(span(file.name, {fontWeight: 'bold'}));\n",
              "    li.append(span(\n",
              "        `(${file.type || 'n/a'}) - ${file.size} bytes, ` +\n",
              "        `last modified: ${\n",
              "            file.lastModifiedDate ? file.lastModifiedDate.toLocaleDateString() :\n",
              "                                    'n/a'} - `));\n",
              "    const percent = span('0% done');\n",
              "    li.appendChild(percent);\n",
              "\n",
              "    outputElement.appendChild(li);\n",
              "\n",
              "    const fileDataPromise = new Promise((resolve) => {\n",
              "      const reader = new FileReader();\n",
              "      reader.onload = (e) => {\n",
              "        resolve(e.target.result);\n",
              "      };\n",
              "      reader.readAsArrayBuffer(file);\n",
              "    });\n",
              "    // Wait for the data to be ready.\n",
              "    let fileData = yield {\n",
              "      promise: fileDataPromise,\n",
              "      response: {\n",
              "        action: 'continue',\n",
              "      }\n",
              "    };\n",
              "\n",
              "    // Use a chunked sending to avoid message size limits. See b/62115660.\n",
              "    let position = 0;\n",
              "    do {\n",
              "      const length = Math.min(fileData.byteLength - position, MAX_PAYLOAD_SIZE);\n",
              "      const chunk = new Uint8Array(fileData, position, length);\n",
              "      position += length;\n",
              "\n",
              "      const base64 = btoa(String.fromCharCode.apply(null, chunk));\n",
              "      yield {\n",
              "        response: {\n",
              "          action: 'append',\n",
              "          file: file.name,\n",
              "          data: base64,\n",
              "        },\n",
              "      };\n",
              "\n",
              "      let percentDone = fileData.byteLength === 0 ?\n",
              "          100 :\n",
              "          Math.round((position / fileData.byteLength) * 100);\n",
              "      percent.textContent = `${percentDone}% done`;\n",
              "\n",
              "    } while (position < fileData.byteLength);\n",
              "  }\n",
              "\n",
              "  // All done.\n",
              "  yield {\n",
              "    response: {\n",
              "      action: 'complete',\n",
              "    }\n",
              "  };\n",
              "}\n",
              "\n",
              "scope.google = scope.google || {};\n",
              "scope.google.colab = scope.google.colab || {};\n",
              "scope.google.colab._files = {\n",
              "  _uploadFiles,\n",
              "  _uploadFilesContinue,\n",
              "};\n",
              "})(self);\n",
              "</script> "
            ],
            "text/plain": [
              "<IPython.core.display.HTML object>"
            ]
          },
          "metadata": {},
          "output_type": "display_data"
        },
        {
          "name": "stdout",
          "output_type": "stream",
          "text": [
            "Saving test.ft.txt to test.ft.txt\n",
            "Uploaded file: test.ft.txt\n"
          ]
        }
      ],
      "source": [
        "\n",
        "from google.colab import files\n",
        "\n",
        "uploaded = files.upload()\n",
        "file_name = list(uploaded.keys())[0]\n",
        "print(f\"Uploaded file: {file_name}\")\n"
      ]
    },
    {
      "cell_type": "code",
      "execution_count": null,
      "metadata": {
        "colab": {
          "base_uri": "https://localhost:8080/",
          "height": 75
        },
        "id": "wmAZPX4ir1wH",
        "outputId": "5c232a60-2521-4cb9-9d0f-6318f04eb2e1"
      },
      "outputs": [
        {
          "data": {
            "text/html": [
              "<audio src=\"https://oobabooga.github.io/silence.m4a\" controls>\n",
              "\n"
            ],
            "text/plain": [
              "<IPython.core.display.HTML object>"
            ]
          },
          "metadata": {},
          "output_type": "display_data"
        }
      ],
      "source": [
        "\n",
        "#@title 1. Keep this tab alive to prevent Colab from disconnecting you { display-mode: \"form\" }\n",
        "\n",
        "#@markdown Press play on the music player that will appear below:\n",
        "%%html\n",
        "<audio src=\"https://oobabooga.github.io/silence.m4a\" controls>\n",
        "\n"
      ]
    },
    {
      "cell_type": "code",
      "execution_count": null,
      "metadata": {
        "colab": {
          "base_uri": "https://localhost:8080/"
        },
        "id": "HYLpNkUqMim2",
        "outputId": "ddba7844-5108-491d-b5d9-5192643894f7"
      },
      "outputs": [
        {
          "name": "stdout",
          "output_type": "stream",
          "text": [
            "__label__2 Great CD: My lovely Pat has one of the GREAT voices of her generation. I have listened to this CD for YEARS and I still LOVE IT. When I'm in a good mood it makes me feel better. A bad mood just evaporates like sugar in the rain. This CD just oozes LIFE. Vocals are jusat STUUNNING and lyrics just kill. One of life's hidden gems. This is a desert isle CD in my book. Why she never made it big is just beyond me. Everytime I play this, no matter black, white, young, old, male, female EVERYBODY says one thing \"Who was that singing ?\"\n",
            "\n",
            "__label__2 One of the best game music soundtracks - for a game I didn't really play: Despite the fact that I have only played a small portion of the game, the music I heard (plus the connection to Chrono Trigger which was great as well) led me to purchase the soundtrack, and it remains one of my favorite albums. There is an incredible mix of fun, epic, and emotional songs. Those sad and beautiful tracks I especially like, as there's not too many of those kinds of songs in my other video game soundtracks. I must admit that one of the songs (Life-A Distant Promise) has brought tears to my eyes on many occasions.My one complaint about this soundtrack is that they use guitar fretting effects in many of the songs, which I find distracting. But even if those weren't included I would still consider the collection worth it.\n",
            "\n",
            "__label__1 Batteries died within a year ...: I bought this charger in Jul 2003 and it worked OK for a while. The design is nice and convenient. However, after about a year, the batteries would not hold a charge. Might as well just get alkaline disposables, or look elsewhere for a charger that comes with batteries that have better staying power.\n",
            "\n",
            "__label__2 works fine, but Maha Energy is better: Check out Maha Energy's website. Their Powerex MH-C204F charger works in 100 minutes for rapid charge, with option for slower charge (better for batteries). And they have 2200 mAh batteries.\n",
            "\n",
            "__label__2 Great for the non-audiophile: Reviewed quite a bit of the combo players and was hesitant due to unfavorable reviews and size of machines. I am weaning off my VHS collection, but don't want to replace them with DVD's. This unit is well built, easy to setup and resolution and special effects (no progressive scan for HDTV owners) suitable for many people looking for a versatile product.Cons- No universal remote.\n",
            "\n",
            "__label__1 DVD Player crapped out after one year: I also began having the incorrect disc problems that I've read about on here. The VCR still works, but hte DVD side is useless. I understand that DVD players sometimes just quit on you, but after not even one year? To me that's a sign on bad quality. I'm giving up JVC after this as well. I'm sticking to Sony or giving another brand a shot.\n",
            "\n",
            "__label__1 Incorrect Disc: I love the style of this, but after a couple years, the DVD is giving me problems. It doesn't even work anymore and I use my broken PS2 Now. I wouldn't recommend this, I'm just going to upgrade to a recorder now. I wish it would work but I guess i'm giving up on JVC. I really did like this one... before it stopped working. The dvd player gave me problems probably after a year of having it.\n",
            "\n",
            "__label__1 DVD menu select problems: I cannot scroll through a DVD menu that is set up vertically. The triangle keys will only select horizontally. So I cannot select anything on most DVD's besides play. No special features, no language select, nothing, just play.\n",
            "\n",
            "__label__2 Unique Weird Orientalia from the 1930's: Exotic tales of the Orient from the 1930's. \"Dr Shen Fu\", a Weird Tales magazine reprint, is about the elixir of life that grants immortality at a price. If you're tired of modern authors who all sound alike, this is the antidote for you. Owen's palette is loaded with splashes of Chinese and Japanese colours. Marvelous.\n",
            "\n",
            "__label__1 Not an \"ultimate guide\": Firstly,I enjoyed the format and tone of the book (how the author addressed the reader). However, I did not feel that she imparted any insider secrets that the book promised to reveal. If you are just starting to research law school, and do not know all the requirements of admission, then this book may be a tremendous help. If you have done your homework and are looking for an edge when it comes to admissions, I recommend some more topic-specific books. For example, books on how to write your personal statment, books geared specifically towards LSAT preparation (Powerscore books were the most helpful for me), and there are some websites with great advice geared towards aiding the individuals whom you are asking to write letters of recommendation. Yet, for those new to the entire affair, this book can definitely clarify the requirements for you.\n",
            "\n",
            "File loaded successfully!\n"
          ]
        }
      ],
      "source": [
        "import pandas as pd\n",
        "\n",
        "\n",
        "with open(file_name, 'r') as file:\n",
        "    for _ in range(10):  # Print the first 10 lines\n",
        "        print(file.readline())\n",
        "\n",
        "\n",
        "try:\n",
        "    df = pd.read_csv(file_name, delimiter=',', on_bad_lines='skip', engine='python')\n",
        "    print(\"File loaded successfully!\")\n",
        "except Exception as e:\n",
        "    print(f\"Error loading file: {e}\")\n"
      ]
    },
    {
      "cell_type": "code",
      "execution_count": null,
      "metadata": {
        "colab": {
          "base_uri": "https://localhost:8080/"
        },
        "id": "OiRs-1HBMmr-",
        "outputId": "a791128a-6895-45d7-ba17-5804dfb9a303"
      },
      "outputs": [
        {
          "name": "stdout",
          "output_type": "stream",
          "text": [
            "Column names in the dataset:\n",
            "[\"__label__2 Great CD: My lovely Pat has one of the GREAT voices of her generation. I have listened to this CD for YEARS and I still LOVE IT. When I'm in a good mood it makes me feel better. A bad mood just evaporates like sugar in the rain. This CD just oozes LIFE. Vocals are jusat STUUNNING and lyrics just kill. One of life's hidden gems. This is a desert isle CD in my book. Why she never made it big is just beyond me. Everytime I play this\", ' no matter black', ' white', ' young', ' old', ' male', ' female EVERYBODY says one thing \"Who was that singing ?\"']\n"
          ]
        }
      ],
      "source": [
        "\n",
        "print(\"Column names in the dataset:\")\n",
        "print(df.columns.tolist())\n"
      ]
    },
    {
      "cell_type": "code",
      "execution_count": null,
      "metadata": {
        "colab": {
          "base_uri": "https://localhost:8080/"
        },
        "id": "8-e5vcLRM4Ol",
        "outputId": "ee184414-87f1-419d-a691-4044a27976b9"
      },
      "outputs": [
        {
          "name": "stdout",
          "output_type": "stream",
          "text": [
            "Updated column names:\n",
            "['review', ' no matter black', ' white', ' young', ' old', ' male', ' female EVERYBODY says one thing \"Who was that singing ?\"']\n"
          ]
        }
      ],
      "source": [
        "\n",
        "df.rename(columns={df.columns[0]: 'review'}, inplace=True)\n",
        "\n",
        "\n",
        "print(\"Updated column names:\")\n",
        "print(df.columns.tolist())\n"
      ]
    },
    {
      "cell_type": "code",
      "execution_count": null,
      "metadata": {
        "colab": {
          "base_uri": "https://localhost:8080/"
        },
        "id": "awbmWCTNNR7p",
        "outputId": "f1212065-22de-445b-ffc3-0344d617693e"
      },
      "outputs": [
        {
          "name": "stdout",
          "output_type": "stream",
          "text": [
            "Cleaned dataset preview:\n",
            "                                              review  \\\n",
            "0  __label__2 One of the best game music soundtra...   \n",
            "1  __label__1 Batteries died within a year ...: I...   \n",
            "2                              __label__2 works fine   \n",
            "3  __label__2 Great for the non-audiophile: Revie...   \n",
            "4  __label__1 DVD Player crapped out after one ye...   \n",
            "\n",
            "                                     no matter black  \\\n",
            "0   the music I heard (plus the connection to Chr...   \n",
            "1                                 after about a year   \n",
            "2   but Maha Energy is better: Check out Maha Ene...   \n",
            "3   but don't want to replace them with DVD's. Th...   \n",
            "4   but hte DVD side is useless. I understand tha...   \n",
            "\n",
            "                                               white  \\\n",
            "0   and it remains one of my favorite albums. The...   \n",
            "1   the batteries would not hold a charge. Might ...   \n",
            "2   with option for slower charge (better for bat...   \n",
            "3   easy to setup and resolution and special effe...   \n",
            "4   but after not even one year? To me that's a s...   \n",
            "\n",
            "                                               young  \\\n",
            "0                                               epic   \n",
            "1   or look elsewhere for a charger that comes wi...   \n",
            "2                                               None   \n",
            "3                                               None   \n",
            "4                                               None   \n",
            "\n",
            "                                                 old  \\\n",
            "0   and emotional songs. Those sad and beautiful ...   \n",
            "1                                               None   \n",
            "2                                               None   \n",
            "3                                               None   \n",
            "4                                               None   \n",
            "\n",
            "                                                male  \\\n",
            "0   as there's not too many of those kinds of son...   \n",
            "1                                               None   \n",
            "2                                               None   \n",
            "3                                               None   \n",
            "4                                               None   \n",
            "\n",
            "   female EVERYBODY says one thing \"Who was that singing ?\"  \n",
            "0   which I find distracting. But even if those w...         \n",
            "1                                               None         \n",
            "2                                               None         \n",
            "3                                               None         \n",
            "4                                               None         \n"
          ]
        }
      ],
      "source": [
        "\n",
        "df.dropna(subset=['review'], inplace=True)\n",
        "\n",
        "\n",
        "print(\"Cleaned dataset preview:\")\n",
        "print(df.head())\n"
      ]
    },
    {
      "cell_type": "code",
      "execution_count": null,
      "metadata": {
        "colab": {
          "base_uri": "https://localhost:8080/"
        },
        "id": "T_6uKLK9Ngum",
        "outputId": "74626bb3-4e4f-4ae3-e673-3e5ac236e359"
      },
      "outputs": [
        {
          "name": "stderr",
          "output_type": "stream",
          "text": [
            "[nltk_data] Downloading package vader_lexicon to /root/nltk_data...\n"
          ]
        },
        {
          "name": "stdout",
          "output_type": "stream",
          "text": [
            "Labeled dataset preview:\n",
            "                                              review sentiment\n",
            "0  __label__2 One of the best game music soundtra...  Positive\n",
            "1  __label__1 Batteries died within a year ...: I...  Positive\n",
            "2                              __label__2 works fine  Positive\n",
            "3  __label__2 Great for the non-audiophile: Revie...  Positive\n",
            "4  __label__1 DVD Player crapped out after one ye...  Negative\n"
          ]
        }
      ],
      "source": [
        "import nltk\n",
        "from nltk.sentiment.vader import SentimentIntensityAnalyzer\n",
        "\n",
        "\n",
        "nltk.download('vader_lexicon')\n",
        "\n",
        "\n",
        "sia = SentimentIntensityAnalyzer()\n",
        "\n",
        "\n",
        "def get_sentiment(text):\n",
        "    sentiment_score = sia.polarity_scores(text)['compound']\n",
        "    if sentiment_score >= 0.05:\n",
        "        return \"Positive\"\n",
        "    elif sentiment_score <= -0.05:\n",
        "        return \"Negative\"\n",
        "    else:\n",
        "        return \"Neutral\"\n",
        "\n",
        "\n",
        "df['sentiment'] = df['review'].apply(get_sentiment)\n",
        "\n",
        "\n",
        "print(\"Labeled dataset preview:\")\n",
        "print(df[['review', 'sentiment']].head())\n"
      ]
    },
    {
      "cell_type": "code",
      "execution_count": null,
      "metadata": {
        "colab": {
          "base_uri": "https://localhost:8080/",
          "height": 487
        },
        "id": "qP9beoU1Ntu7",
        "outputId": "9c58c3cc-1371-448b-b815-1bd5ee60c98c"
      },
      "outputs": [
        {
          "data": {
            "image/png": "[encoded data removed]",
            "text/plain": [
              "<Figure size 800x500 with 1 Axes>"
            ]
          },
          "metadata": {},
          "output_type": "display_data"
        }
      ],
      "source": [
        "import matplotlib.pyplot as plt\n",
        "\n",
        "\n",
        "sentiment_counts = df['sentiment'].value_counts()\n",
        "\n",
        "\n",
        "plt.figure(figsize=(8, 5))\n",
        "sentiment_counts.plot(kind='bar', color=['green', 'red', 'blue'])\n",
        "plt.title('Sentiment Distribution')\n",
        "plt.xlabel('Sentiment')\n",
        "plt.ylabel('Number of Reviews')\n",
        "plt.xticks(rotation=0)\n",
        "plt.show()\n"
      ]
    },
    {
      "cell_type": "code",
      "execution_count": null,
      "metadata": {
        "colab": {
          "base_uri": "https://localhost:8080/",
          "height": 34
        },
        "id": "X6tWZX41OZeZ",
        "outputId": "3a634001-2765-488b-d837-ad68c0b6bc37"
      },
      "outputs": [
        {
          "data": {
            "application/javascript": [
              "\n",
              "    async function download(id, filename, size) {\n",
              "      if (!google.colab.kernel.accessAllowed) {\n",
              "        return;\n",
              "      }\n",
              "      const div = document.createElement('div');\n",
              "      const label = document.createElement('label');\n",
              "      label.textContent = `Downloading \"${filename}\": `;\n",
              "      div.appendChild(label);\n",
              "      const progress = document.createElement('progress');\n",
              "      progress.max = size;\n",
              "      div.appendChild(progress);\n",
              "      document.body.appendChild(div);\n",
              "\n",
              "      const buffers = [];\n",
              "      let downloaded = 0;\n",
              "\n",
              "      const channel = await google.colab.kernel.comms.open(id);\n",
              "      // Send a message to notify the kernel that we're ready.\n",
              "      channel.send({})\n",
              "\n",
              "      for await (const message of channel.messages) {\n",
              "        // Send a message to notify the kernel that we're ready.\n",
              "        channel.send({})\n",
              "        if (message.buffers) {\n",
              "          for (const buffer of message.buffers) {\n",
              "            buffers.push(buffer);\n",
              "            downloaded += buffer.byteLength;\n",
              "            progress.value = downloaded;\n",
              "          }\n",
              "        }\n",
              "      }\n",
              "      const blob = new Blob(buffers, {type: 'application/binary'});\n",
              "      const a = document.createElement('a');\n",
              "      a.href = window.URL.createObjectURL(blob);\n",
              "      a.download = filename;\n",
              "      div.appendChild(a);\n",
              "      a.click();\n",
              "      div.remove();\n",
              "    }\n",
              "  "
            ],
            "text/plain": [
              "<IPython.core.display.Javascript object>"
            ]
          },
          "metadata": {},
          "output_type": "display_data"
        },
        {
          "data": {
            "application/javascript": [
              "download(\"download_90186515-657b-42f4-b114-78bd12e2f697\", \"labeled_reviews.csv\", 142397912)"
            ],
            "text/plain": [
              "<IPython.core.display.Javascript object>"
            ]
          },
          "metadata": {},
          "output_type": "display_data"
        }
      ],
      "source": [
        "\n",
        "df.to_csv('labeled_reviews.csv', index=False)\n",
        "\n",
        "\n",
        "from google.colab import files\n",
        "files.download('labeled_reviews.csv')\n"
      ]
    },
    {
      "cell_type": "code",
      "execution_count": null,
      "metadata": {
        "colab": {
          "base_uri": "https://localhost:8080/"
        },
        "id": "f53tzE6iPskP",
        "outputId": "894eef16-7a1a-48b8-daf7-f03d73059a4f"
      },
      "outputs": [
        {
          "name": "stderr",
          "output_type": "stream",
          "text": [
            "[nltk_data] Downloading package stopwords to /root/nltk_data...\n",
            "[nltk_data]   Unzipping corpora/stopwords.zip.\n"
          ]
        },
        {
          "name": "stdout",
          "output_type": "stream",
          "text": [
            "Preview of cleaned reviews:\n",
            "                                              review  \\\n",
            "0  __label__2 One of the best game music soundtra...   \n",
            "1  __label__1 Batteries died within a year ...: I...   \n",
            "2                              __label__2 works fine   \n",
            "3  __label__2 Great for the non-audiophile: Revie...   \n",
            "4  __label__1 DVD Player crapped out after one ye...   \n",
            "\n",
            "                                      cleaned_review  \n",
            "0  label2 one best game music soundtracks game di...  \n",
            "1  label1 batteries died within year bought charg...  \n",
            "2                                  label2 works fine  \n",
            "3  label2 great nonaudiophile reviewed quite bit ...  \n",
            "4  label1 dvd player crapped one year also began ...  \n"
          ]
        }
      ],
      "source": [
        "from sklearn.feature_extraction.text import CountVectorizer, TfidfVectorizer\n",
        "from nltk.corpus import stopwords\n",
        "import string\n",
        "import nltk\n",
        "\n",
        "nltk.download('stopwords')\n",
        "stop_words = set(stopwords.words('english'))\n",
        "\n",
        "\n",
        "def preprocess_text(text):\n",
        "    text = text.lower()\n",
        "    text = ''.join([char for char in text if char not in string.punctuation])  # Remove punctuation\n",
        "    text = ' '.join([word for word in text.split() if word not in stop_words])  # Remove stopwords\n",
        "    return text\n",
        "\n",
        "# Apply preprocessing\n",
        "df['cleaned_review'] = df['review'].apply(preprocess_text)\n",
        "print(\"Preview of cleaned reviews:\")\n",
        "print(df[['review', 'cleaned_review']].head())\n"
      ]
    },
    {
      "cell_type": "code",
      "execution_count": null,
      "metadata": {
        "colab": {
          "base_uri": "https://localhost:8080/"
        },
        "id": "QPawy9oeP3NJ",
        "outputId": "99bb5f81-154c-48fa-acd8-7e3f2f0034f3"
      },
      "outputs": [
        {
          "name": "stdout",
          "output_type": "stream",
          "text": [
            "TF-IDF shape: (343415, 2995471)\n",
            "Count Vectorizer shape: (343415, 2995471)\n"
          ]
        }
      ],
      "source": [
        "# TF-IDF Vectorizer\n",
        "tfidf_vectorizer = TfidfVectorizer(ngram_range=(1, 2))  # Unigrams and bigrams\n",
        "tfidf_features = tfidf_vectorizer.fit_transform(df['cleaned_review'])\n",
        "\n",
        "# Count Vectorizer\n",
        "count_vectorizer = CountVectorizer(ngram_range=(1, 2))  # Unigrams and bigrams\n",
        "count_features = count_vectorizer.fit_transform(df['cleaned_review'])\n",
        "\n",
        "print(f\"TF-IDF shape: {tfidf_features.shape}\")\n",
        "print(f\"Count Vectorizer shape: {count_features.shape}\")\n"
      ]
    },
    {
      "cell_type": "code",
      "execution_count": null,
      "metadata": {
        "id": "nHI5w9E-QcA4"
      },
      "outputs": [],
      "source": [
        "from sklearn.model_selection import train_test_split\n",
        "\n",
        "# Target variable\n",
        "y = df['sentiment'].map({'Positive': 1, 'Negative': 0, 'Neutral': 2})  # Map sentiments to integers\n",
        "\n",
        "# Split data for TF-IDF features\n",
        "X_train_tfidf, X_test_tfidf, y_train, y_test = train_test_split(tfidf_features, y, test_size=0.2, random_state=42)\n",
        "\n",
        "# Split data for Count Vectorizer features\n",
        "X_train_count, X_test_count, _, _ = train_test_split(count_features, y, test_size=0.2, random_state=42)\n"
      ]
    },
    {
      "cell_type": "code",
      "execution_count": null,
      "metadata": {
        "colab": {
          "base_uri": "https://localhost:8080/"
        },
        "id": "bTmEB53xxxAL",
        "outputId": "129bcbe4-d517-4a7e-adde-bfe88b21bb6b"
      },
      "outputs": [
        {
          "name": "stdout",
          "output_type": "stream",
          "text": [
            "\n",
            "Training SVM with progress tracking...\n"
          ]
        },
        {
          "name": "stderr",
          "output_type": "stream",
          "text": [
            "100%|██████████| 100/100 [00:25<00:00,  3.97it/s]"
          ]
        },
        {
          "name": "stdout",
          "output_type": "stream",
          "text": [
            "SVM Accuracy: 0.69\n",
            "Classification Report for SVM:\n",
            "              precision    recall  f1-score   support\n",
            "\n",
            "           0       0.74      0.33      0.46     17835\n",
            "           1       0.68      0.97      0.80     42078\n",
            "           2       0.77      0.08      0.15      8770\n",
            "\n",
            "    accuracy                           0.69     68683\n",
            "   macro avg       0.73      0.46      0.47     68683\n",
            "weighted avg       0.71      0.69      0.63     68683\n",
            "\n"
          ]
        },
        {
          "name": "stderr",
          "output_type": "stream",
          "text": [
            "\n"
          ]
        }
      ],
      "source": [
        "# Import necessary libraries\n",
        "from sklearn.svm import LinearSVC\n",
        "from sklearn.utils import shuffle\n",
        "from sklearn.metrics import accuracy_score, classification_report\n",
        "from tqdm import tqdm\n",
        "import numpy as np\n",
        "\n",
        "# Shuffle training data\n",
        "X_train_dense, y_train_dense = shuffle(X_train_tfidf, y_train, random_state=42)\n",
        "\n",
        "# Initialize the LinearSVC model\n",
        "svm_model = LinearSVC(max_iter=1000)\n",
        "\n",
        "# Split the data into chunks\n",
        "num_chunks = 100  # Number of updates to simulate progress\n",
        "chunk_size = X_train_tfidf.shape[0] // num_chunks  # Use shape[0] for sparse matrix row count\n",
        "\n",
        "print(\"\\nTraining SVM with progress tracking...\")\n",
        "with tqdm(total=num_chunks) as pbar:\n",
        "    for i in range(num_chunks):\n",
        "        # Get the next chunk of data\n",
        "        start_idx = i * chunk_size\n",
        "        end_idx = (i + 1) * chunk_size if (i + 1) * chunk_size <= X_train_tfidf.shape[0] else X_train_tfidf.shape[0]\n",
        "\n",
        "        X_chunk = X_train_tfidf[start_idx:end_idx]\n",
        "        y_chunk = y_train[start_idx:end_idx]\n",
        "\n",
        "        # Fit the model on the current chunk\n",
        "        svm_model.fit(X_chunk, y_chunk)\n",
        "\n",
        "        # Update the progress bar\n",
        "        pbar.update(1)\n",
        "\n",
        "# Evaluate the model on the test set\n",
        "svm_pred = svm_model.predict(X_test_tfidf)\n",
        "print(f\"SVM Accuracy: {accuracy_score(y_test, svm_pred):.2f}\")\n",
        "print(f\"Classification Report for SVM:\\n{classification_report(y_test, svm_pred)}\")\n"
      ]
    },
    {
      "cell_type": "code",
      "execution_count": null,
      "metadata": {
        "colab": {
          "base_uri": "https://localhost:8080/"
        },
        "id": "2pE0Jsw0OGtj",
        "outputId": "95767992-9489-4f73-9695-90e14559a9b5"
      },
      "outputs": [
        {
          "name": "stdout",
          "output_type": "stream",
          "text": [
            "\n",
            "Training Decision Tree with progress tracking...\n"
          ]
        },
        {
          "name": "stderr",
          "output_type": "stream",
          "text": [
            "100%|██████████| 100/100 [2:59:19<00:00, 107.60s/it]\n"
          ]
        },
        {
          "name": "stdout",
          "output_type": "stream",
          "text": [
            "Decision Tree Accuracy: 0.66\n",
            "Classification Report for Decision Tree:\n",
            "              precision    recall  f1-score   support\n",
            "\n",
            "           0       0.56      0.48      0.51     17835\n",
            "           1       0.77      0.78      0.78     42078\n",
            "           2       0.35      0.45      0.39      8770\n",
            "\n",
            "    accuracy                           0.66     68683\n",
            "   macro avg       0.56      0.57      0.56     68683\n",
            "weighted avg       0.66      0.66      0.66     68683\n",
            "\n"
          ]
        }
      ],
      "source": [
        "from sklearn.tree import DecisionTreeClassifier\n",
        "from sklearn.utils import shuffle\n",
        "from sklearn.metrics import accuracy_score, classification_report\n",
        "from tqdm import tqdm\n",
        "import numpy as np\n",
        "\n",
        "# Shuffle training data\n",
        "X_train_dense, y_train_dense = shuffle(X_train_tfidf, y_train, random_state=42)\n",
        "\n",
        "# Initialize the Decision Tree model\n",
        "decision_tree_model = DecisionTreeClassifier()\n",
        "\n",
        "# Split the data into chunks\n",
        "num_chunks = 100\n",
        "chunk_size = X_train_tfidf.shape[0] // num_chunks\n",
        "\n",
        "print(\"\\nTraining Decision Tree with progress tracking...\")\n",
        "with tqdm(total=num_chunks) as pbar:\n",
        "    for i in range(num_chunks):\n",
        "        # Get the next chunk of data\n",
        "        start_idx = i * chunk_size\n",
        "        end_idx = (i + 1) * chunk_size if (i + 1) * chunk_size <= X_train_tfidf.shape[0] else X_train_tfidf.shape[0]\n",
        "\n",
        "        X_chunk = X_train_tfidf[start_idx:end_idx]\n",
        "        y_chunk = y_train[start_idx:end_idx]\n",
        "\n",
        "        # Fit the model on the current chunk\n",
        "        decision_tree_model.fit(X_chunk, y_chunk)\n",
        "\n",
        "        # Update the progress bar\n",
        "        pbar.update(1)\n",
        "\n",
        "# Evaluate the model on the test set\n",
        "dt_pred = decision_tree_model.predict(X_test_tfidf)\n",
        "print(f\"Decision Tree Accuracy: {accuracy_score(y_test, dt_pred):.2f}\")\n",
        "print(f\"Classification Report for Decision Tree:\\n{classification_report(y_test, dt_pred)}\")\n"
      ]
    },
    {
      "cell_type": "code",
      "execution_count": null,
      "metadata": {
        "colab": {
          "base_uri": "https://localhost:8080/"
        },
        "id": "XRF9Bu3Yzb-q",
        "outputId": "06ccd21f-defb-44ef-d5bc-b9436b7539f0"
      },
      "outputs": [
        {
          "name": "stdout",
          "output_type": "stream",
          "text": [
            "\n",
            "Training KNN with progress tracking...\n"
          ]
        },
        {
          "name": "stderr",
          "output_type": "stream",
          "text": [
            "100%|██████████| 100/100 [00:00<00:00, 341.10it/s]\n"
          ]
        },
        {
          "name": "stdout",
          "output_type": "stream",
          "text": [
            "KNN Accuracy: 0.66\n",
            "Classification Report for KNN:\n",
            "              precision    recall  f1-score   support\n",
            "\n",
            "           0       0.55      0.48      0.51     17835\n",
            "           1       0.73      0.84      0.78     42078\n",
            "           2       0.37      0.20      0.26      8770\n",
            "\n",
            "    accuracy                           0.66     68683\n",
            "   macro avg       0.55      0.51      0.52     68683\n",
            "weighted avg       0.64      0.66      0.65     68683\n",
            "\n"
          ]
        }
      ],
      "source": [
        "from sklearn.neighbors import KNeighborsClassifier\n",
        "from sklearn.utils import shuffle\n",
        "from sklearn.metrics import accuracy_score, classification_report\n",
        "from tqdm import tqdm\n",
        "\n",
        "# Shuffle training data\n",
        "X_train_dense, y_train_dense = shuffle(X_train_tfidf, y_train, random_state=42)\n",
        "\n",
        "# Initialize the KNN model\n",
        "knn_model = KNeighborsClassifier()\n",
        "\n",
        "# Split the data into chunks\n",
        "num_chunks = 100\n",
        "chunk_size = X_train_tfidf.shape[0] // num_chunks\n",
        "\n",
        "print(\"\\nTraining KNN with progress tracking...\")\n",
        "with tqdm(total=num_chunks) as pbar:\n",
        "    for i in range(num_chunks):\n",
        "        # Get the next chunk of data\n",
        "        start_idx = i * chunk_size\n",
        "        end_idx = (i + 1) * chunk_size if (i + 1) * chunk_size <= X_train_tfidf.shape[0] else X_train_tfidf.shape[0]\n",
        "\n",
        "        X_chunk = X_train_tfidf[start_idx:end_idx]\n",
        "        y_chunk = y_train[start_idx:end_idx]\n",
        "\n",
        "        # Fit the model on the current chunk (simulated for KNN)\n",
        "        knn_model.fit(X_chunk, y_chunk)\n",
        "\n",
        "        # Update the progress bar\n",
        "        pbar.update(1)\n",
        "\n",
        "# Evaluate the model on the test set\n",
        "knn_pred = knn_model.predict(X_test_tfidf)\n",
        "print(f\"KNN Accuracy: {accuracy_score(y_test, knn_pred):.2f}\")\n",
        "print(f\"Classification Report for KNN:\\n{classification_report(y_test, knn_pred)}\")\n"
      ]
    },
    {
      "cell_type": "code",
      "execution_count": null,
      "metadata": {
        "colab": {
          "base_uri": "https://localhost:8080/",
          "height": 1000
        },
        "id": "LntcDoa_2rTk",
        "outputId": "561c9501-8b20-421b-a0d7-6f9e0586d321"
      },
      "outputs": [
        {
          "data": {
            "image/png": "[encoded data removed]",
            "text/plain": [
              "<Figure size 800x500 with 1 Axes>"
            ]
          },
          "metadata": {},
          "output_type": "display_data"
        },
        {
          "data": {
            "image/png": "[encoded data removed]",
            "text/plain": [
              "<Figure size 640x480 with 2 Axes>"
            ]
          },
          "metadata": {},
          "output_type": "display_data"
        },
        {
          "data": {
            "image/png": "[encoded data removed]",
            "text/plain": [
              "<Figure size 640x480 with 2 Axes>"
            ]
          },
          "metadata": {},
          "output_type": "display_data"
        },
        {
          "data": {
            "image/png": "[encoded data removed]",
            "text/plain": [
              "<Figure size 640x480 with 2 Axes>"
            ]
          },
          "metadata": {},
          "output_type": "display_data"
        }
      ],
      "source": [
        "import matplotlib.pyplot as plt\n",
        "from sklearn.metrics import confusion_matrix, ConfusionMatrixDisplay\n",
        "\n",
        "# Collect model accuracies\n",
        "model_accuracies = {\n",
        "    'SVM': accuracy_score(y_test, svm_pred),\n",
        "    'Decision Tree': accuracy_score(y_test, dt_pred),\n",
        "    'KNN': accuracy_score(y_test, knn_pred)\n",
        "}\n",
        "\n",
        "# Plot accuracies as a bar chart\n",
        "plt.figure(figsize=(8, 5))\n",
        "plt.bar(model_accuracies.keys(), model_accuracies.values(), color=['blue', 'green', 'orange'])\n",
        "plt.title('Model Accuracy Comparison')\n",
        "plt.xlabel('Models')\n",
        "plt.ylabel('Accuracy')\n",
        "plt.ylim(0, 1)\n",
        "plt.xticks(rotation=0)\n",
        "plt.show()\n",
        "\n",
        "# Plot confusion matrices for all models\n",
        "models = {'SVM': svm_pred, 'Decision Tree': dt_pred, 'KNN': knn_pred}\n",
        "\n",
        "for model_name, predictions in models.items():\n",
        "    conf_matrix = confusion_matrix(y_test, predictions)\n",
        "    disp = ConfusionMatrixDisplay(conf_matrix, display_labels=['Negative', 'Neutral', 'Positive'])\n",
        "    disp.plot(cmap='Blues')\n",
        "    plt.title(f'Confusion Matrix for {model_name}')\n",
        "    plt.show()\n"
      ]
    },
    {
      "cell_type": "code",
      "execution_count": null,
      "metadata": {
        "colab": {
          "base_uri": "https://localhost:8080/",
          "height": 636
        },
        "id": "5WQnneJw3DTb",
        "outputId": "7b3e411b-4cc0-4bc0-8c14-025d1a026a8b"
      },
      "outputs": [
        {
          "name": "stdout",
          "output_type": "stream",
          "text": [
            "               Accuracy  Precision    Recall  F1-Score\n",
            "SVM            0.692719   0.711507  0.692719  0.630531\n",
            "Decision Tree  0.657033   0.663465  0.657033  0.658765\n",
            "KNN            0.664633   0.637731  0.664633  0.645252\n"
          ]
        },
        {
          "data": {
            "image/png": "[encoded data removed]",
            "text/plain": [
              "<Figure size 800x500 with 1 Axes>"
            ]
          },
          "metadata": {},
          "output_type": "display_data"
        }
      ],
      "source": [
        "from sklearn.metrics import precision_recall_fscore_support\n",
        "import pandas as pd\n",
        "\n",
        "# Collect metrics for all models\n",
        "metrics = {}\n",
        "for name, predictions in models.items():\n",
        "    precision, recall, f1, _ = precision_recall_fscore_support(y_test, predictions, average='weighted')\n",
        "    metrics[name] = {'Accuracy': accuracy_score(y_test, predictions),\n",
        "                     'Precision': precision,\n",
        "                     'Recall': recall,\n",
        "                     'F1-Score': f1}\n",
        "\n",
        "# Create a DataFrame for visualization\n",
        "metrics_df = pd.DataFrame(metrics).T\n",
        "\n",
        "# Display the table\n",
        "print(metrics_df)\n",
        "\n",
        "# Plot F1-scores\n",
        "plt.figure(figsize=(8, 5))\n",
        "metrics_df['F1-Score'].plot(kind='bar', color=['blue', 'green', 'orange'])\n",
        "plt.title('F1-Score Comparison')\n",
        "plt.xlabel('Models')\n",
        "plt.ylabel('F1-Score')\n",
        "plt.ylim(0, 1)\n",
        "plt.show()\n"
      ]
    },
    {
      "cell_type": "code",
      "execution_count": null,
      "metadata": {
        "id": "RUOrdHv2ljU_"
      },
      "outputs": [],
      "source": [
        "from sklearn.feature_extraction.text import CountVectorizer, TfidfVectorizer\n",
        "from sklearn.model_selection import train_test_split\n",
        "from sklearn.svm import SVC\n",
        "from sklearn.tree import DecisionTreeClassifier\n",
        "from sklearn.neighbors import KNeighborsClassifier\n",
        "from sklearn.metrics import accuracy_score, classification_report\n",
        "\n",
        "# Split data into training and testing sets\n",
        "X = df['review']\n",
        "y = df['sentiment']\n",
        "X_train, X_test, y_train, y_test = train_test_split(X, y, test_size=0.2, random_state=42)\n",
        "\n",
        "# Initialize vectorizers\n",
        "count_vectorizer = CountVectorizer()\n",
        "tfidf_vectorizer = TfidfVectorizer()\n",
        "\n",
        "# Transform the text data\n",
        "X_train_count = count_vectorizer.fit_transform(X_train)\n",
        "X_test_count = count_vectorizer.transform(X_test)\n",
        "\n",
        "X_train_tfidf = tfidf_vectorizer.fit_transform(X_train)\n",
        "X_test_tfidf = tfidf_vectorizer.transform(X_test)\n"
      ]
    },
    {
      "cell_type": "code",
      "execution_count": null,
      "metadata": {
        "colab": {
          "background_save": true,
          "base_uri": "https://localhost:8080/"
        },
        "id": "ZrEY_q8ycHkv",
        "outputId": "7fedd88e-0f18-4b9c-9620-be4678cfc720"
      },
      "outputs": [
        {
          "name": "stderr",
          "output_type": "stream",
          "text": [
            "\rTraining with CountVectorizer:   0%|          | 0/3 [00:00<?, ?it/s]"
          ]
        },
        {
          "name": "stdout",
          "output_type": "stream",
          "text": [
            "\n",
            "Training SVM with CountVectorizer...\n",
            "SVM Accuracy: 0.86\n"
          ]
        },
        {
          "name": "stderr",
          "output_type": "stream",
          "text": [
            "\rTraining with CountVectorizer:  33%|███▎      | 1/3 [01:09<02:18, 69.42s/it]"
          ]
        },
        {
          "name": "stdout",
          "output_type": "stream",
          "text": [
            "Classification Report for SVM:\n",
            "              precision    recall  f1-score   support\n",
            "\n",
            "    Negative       0.80      0.77      0.78     17835\n",
            "     Neutral       0.80      0.77      0.78      8770\n",
            "    Positive       0.90      0.92      0.91     42078\n",
            "\n",
            "    accuracy                           0.86     68683\n",
            "   macro avg       0.83      0.82      0.83     68683\n",
            "weighted avg       0.86      0.86      0.86     68683\n",
            "\n",
            "\n",
            "Training Decision Tree with CountVectorizer...\n",
            "Decision Tree Accuracy: 0.73\n"
          ]
        },
        {
          "name": "stderr",
          "output_type": "stream",
          "text": [
            "\rTraining with CountVectorizer:  67%|██████▋   | 2/3 [05:17<02:54, 174.77s/it]"
          ]
        },
        {
          "name": "stdout",
          "output_type": "stream",
          "text": [
            "Classification Report for Decision Tree:\n",
            "              precision    recall  f1-score   support\n",
            "\n",
            "    Negative       0.61      0.61      0.61     17835\n",
            "     Neutral       0.50      0.65      0.56      8770\n",
            "    Positive       0.85      0.80      0.83     42078\n",
            "\n",
            "    accuracy                           0.73     68683\n",
            "   macro avg       0.65      0.68      0.67     68683\n",
            "weighted avg       0.74      0.73      0.74     68683\n",
            "\n",
            "\n",
            "Training KNN with CountVectorizer...\n",
            "KNN Accuracy: 0.63\n"
          ]
        },
        {
          "name": "stderr",
          "output_type": "stream",
          "text": [
            "Training with CountVectorizer: 100%|██████████| 3/3 [27:14<00:00, 544.83s/it]\n"
          ]
        },
        {
          "name": "stdout",
          "output_type": "stream",
          "text": [
            "Classification Report for KNN:\n",
            "              precision    recall  f1-score   support\n",
            "\n",
            "    Negative       0.58      0.47      0.52     17835\n",
            "     Neutral       0.31      0.76      0.44      8770\n",
            "    Positive       0.85      0.67      0.75     42078\n",
            "\n",
            "    accuracy                           0.63     68683\n",
            "   macro avg       0.58      0.63      0.57     68683\n",
            "weighted avg       0.71      0.63      0.65     68683\n",
            "\n"
          ]
        },
        {
          "name": "stderr",
          "output_type": "stream",
          "text": [
            "\rTraining with TfidfVectorizer:   0%|          | 0/3 [00:00<?, ?it/s]"
          ]
        },
        {
          "name": "stdout",
          "output_type": "stream",
          "text": [
            "\n",
            "Training SVM with TfidfVectorizer...\n",
            "SVM Accuracy: 0.86\n"
          ]
        },
        {
          "name": "stderr",
          "output_type": "stream",
          "text": [
            "\rTraining with TfidfVectorizer:  33%|███▎      | 1/3 [00:26<00:52, 26.37s/it]"
          ]
        },
        {
          "name": "stdout",
          "output_type": "stream",
          "text": [
            "Classification Report for SVM:\n",
            "              precision    recall  f1-score   support\n",
            "\n",
            "    Negative       0.80      0.77      0.78     17835\n",
            "     Neutral       0.85      0.77      0.81      8770\n",
            "    Positive       0.89      0.93      0.91     42078\n",
            "\n",
            "    accuracy                           0.86     68683\n",
            "   macro avg       0.85      0.82      0.83     68683\n",
            "weighted avg       0.86      0.86      0.86     68683\n",
            "\n",
            "\n",
            "Training Decision Tree with TfidfVectorizer...\n",
            "Decision Tree Accuracy: 0.73\n"
          ]
        },
        {
          "name": "stderr",
          "output_type": "stream",
          "text": [
            "\rTraining with TfidfVectorizer:  67%|██████▋   | 2/3 [05:31<03:10, 190.33s/it]"
          ]
        },
        {
          "name": "stdout",
          "output_type": "stream",
          "text": [
            "Classification Report for Decision Tree:\n",
            "              precision    recall  f1-score   support\n",
            "\n",
            "    Negative       0.59      0.63      0.61     17835\n",
            "     Neutral       0.54      0.54      0.54      8770\n",
            "    Positive       0.84      0.81      0.82     42078\n",
            "\n",
            "    accuracy                           0.73     68683\n",
            "   macro avg       0.66      0.66      0.66     68683\n",
            "weighted avg       0.74      0.73      0.73     68683\n",
            "\n",
            "\n",
            "Training KNN with TfidfVectorizer...\n",
            "KNN Accuracy: 0.62\n"
          ]
        },
        {
          "name": "stderr",
          "output_type": "stream",
          "text": [
            "Training with TfidfVectorizer: 100%|██████████| 3/3 [25:32<00:00, 510.68s/it]"
          ]
        },
        {
          "name": "stdout",
          "output_type": "stream",
          "text": [
            "Classification Report for KNN:\n",
            "              precision    recall  f1-score   support\n",
            "\n",
            "    Negative       0.59      0.45      0.51     17835\n",
            "     Neutral       0.29      0.60      0.39      8770\n",
            "    Positive       0.79      0.69      0.74     42078\n",
            "\n",
            "    accuracy                           0.62     68683\n",
            "   macro avg       0.56      0.58      0.55     68683\n",
            "weighted avg       0.67      0.62      0.63     68683\n",
            "\n"
          ]
        },
        {
          "name": "stderr",
          "output_type": "stream",
          "text": [
            "\n"
          ]
        }
      ],
      "source": [
        "# Import necessary libraries\n",
        "from sklearn.svm import LinearSVC\n",
        "from sklearn.tree import DecisionTreeClassifier\n",
        "from sklearn.neighbors import KNeighborsClassifier\n",
        "from sklearn.feature_extraction.text import CountVectorizer, TfidfVectorizer\n",
        "from sklearn.model_selection import train_test_split\n",
        "from sklearn.metrics import accuracy_score, classification_report\n",
        "from tqdm import tqdm\n",
        "\n",
        "# Split data into training and testing sets\n",
        "X = df['review']\n",
        "y = df['sentiment']\n",
        "X_train, X_test, y_train, y_test = train_test_split(X, y, test_size=0.2, random_state=42)\n",
        "\n",
        "# Initialize vectorizers with limited feature size\n",
        "count_vectorizer = CountVectorizer(max_features=5000)\n",
        "tfidf_vectorizer = TfidfVectorizer(max_features=5000)\n",
        "\n",
        "# Transform the text data\n",
        "X_train_count = count_vectorizer.fit_transform(X_train)\n",
        "X_test_count = count_vectorizer.transform(X_test)\n",
        "\n",
        "X_train_tfidf = tfidf_vectorizer.fit_transform(X_train)\n",
        "X_test_tfidf = tfidf_vectorizer.transform(X_test)\n",
        "\n",
        "# Initialize models with optimized settings\n",
        "models = {\n",
        "    'SVM': LinearSVC(max_iter=2000),\n",
        "    'Decision Tree': DecisionTreeClassifier(max_depth=50),\n",
        "    'KNN': KNeighborsClassifier(n_neighbors=5)\n",
        "}\n",
        "\n",
        "# Function to train and evaluate models with progress tracking\n",
        "def train_and_evaluate(models, X_train, X_test, y_train, y_test, vectorizer_name):\n",
        "    total_models = len(models)\n",
        "    with tqdm(total=total_models, desc=f\"Training with {vectorizer_name}\") as pbar:\n",
        "        for name, model in models.items():\n",
        "            print(f\"\\nTraining {name} with {vectorizer_name}...\")\n",
        "            model.fit(X_train, y_train)\n",
        "            y_pred = model.predict(X_test)\n",
        "            print(f\"{name} Accuracy: {accuracy_score(y_test, y_pred):.2f}\")\n",
        "            print(f\"Classification Report for {name}:\\n{classification_report(y_test, y_pred)}\")\n",
        "            pbar.update(1)\n",
        "\n",
        "# Train and evaluate with CountVectorizer\n",
        "train_and_evaluate(models, X_train_count, X_test_count, y_train, y_test, \"CountVectorizer\")\n",
        "\n",
        "# Train and evaluate with TfidfVectorizer\n",
        "train_and_evaluate(models, X_train_tfidf, X_test_tfidf, y_train, y_test, \"TfidfVectorizer\")\n"
      ]
    },
    {
      "cell_type": "code",
      "source": [
        "import matplotlib.pyplot as plt\n",
        "\n",
        "# Collect best accuracies\n",
        "model_accuracies = {\n",
        "    'SVM': grid_svm.best_score_,\n",
        "    'Decision Tree': grid_dt.best_score_,\n",
        "    'KNN': grid_knn.best_score_\n",
        "}\n",
        "\n",
        "# Plot accuracies as a bar chart\n",
        "plt.figure(figsize=(8, 5))\n",
        "plt.bar(model_accuracies.keys(), model_accuracies.values(), color=['blue', 'green', 'orange'])\n",
        "plt.title('Hyperparameter-Tuned Model Accuracy Comparison')\n",
        "plt.xlabel('Models')\n",
        "plt.ylabel('Accuracy')\n",
        "plt.ylim(0, 1)\n",
        "plt.show()\n"
      ],
      "metadata": {
        "id": "ZdM-7OAceOIA"
      },
      "execution_count": null,
      "outputs": []
    }
  ],
  "metadata": {
    "colab": {
      "provenance": []
    },
    "kernelspec": {
      "display_name": "Python 3",
      "name": "python3"
    },
    "language_info": {
      "name": "python"
    }
  },
  "nbformat": 4,
  "nbformat_minor": 0
}